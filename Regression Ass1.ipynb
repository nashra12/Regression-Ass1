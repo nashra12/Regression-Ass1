{
 "cells": [
  {
   "cell_type": "markdown",
   "id": "9800f037-f2bc-47d4-974a-eb14d39233a0",
   "metadata": {},
   "source": [
    "Q1. Explain the difference between simple linear regression and multiple linear regression. Provide an\n",
    "example of each.\n",
    "Ans->In  linear regression,we have one input and one expected output,air main aim to find best fit line such that the square of difference between the actual value minus predicted value is minimize,Eqn is: h(x)=a + bx where a is intercept and b is slope\n",
    "Example: having a dataset,\n",
    "input:2,3,5,2,8,9\n",
    "output:5,6,3,2,4,0\n",
    "\n",
    "In multiple linear regression:having a multiple inputs and multiple output \n",
    "eg:location of house,num of rooms in house,color of house, and output will be price of house\n",
    "\n",
    "\n",
    "Q2. Discuss the assumptions of linear regression. How can you check whether these assumptions hold in\n",
    "a given dataset?\n",
    "Ans-> There is a linear relationship between the predictors (x) and the outcome (y)\n",
    "Predictors (x) are independent and observed with negligible error.\n",
    "Residual Errors have a mean value of zero.\n",
    "Residual Errors have constant variance.\n",
    "\n",
    "\n",
    "Q3. How do you interpret the slope and intercept in a linear regression model? Provide an example using\n",
    "a real-world scenario.\n",
    "Ans-> The slope indicates the steepness of a line and the intercept indicates the location where it intersects an axis. The slope and the intercept define the linear relationship between two variables, and can be used to estimate an average rate of change.\n",
    "\n",
    "The easiest way to understand and interpret slope and intercept in linear models is to first understand the slope-intercept formula: y = mx + b. M is the slope or the consistent change between x and y, and b is the y-intercept. Often, the y-intercept represents the starting point of the equation.\n",
    "\n",
    "\n",
    "Q4. Explain the concept of gradient descent. How is it used in machine learning?\n",
    "Ans-> Gradient descent in machine learning is simply used to find the values of a function's parameters (coefficients) that minimize a cost function as far as possible.\n",
    "\n",
    "\n",
    "\n",
    "Q5. Explain the concept of multicollinearity in multiple linear regression. How can you detect and\n",
    "address this issue?\n",
    "Ans->Multicollinearity denotes when independent variables in a linear regression equation are correlated. Multicollinear variables can negatively affect model predictions on unseen data. Several regularization techniques can detect and fix multicollinearity.\n",
    "\n",
    "\n",
    "Q6. Describe the polynomial regression model. How is it different from linear regression?\n",
    "Ans->While Linear Regression captures linear relationships, Polynomial Regression can handle more complex patterns. Both methods use the Mean Squared Error (MSE) as the loss function and R-squared (R²) as the validation metric.\n",
    "\n",
    "\n",
    "\n",
    "Q8. What are the advantages and disadvantages of polynomial regression compared to linear\n",
    "regression? In what situations would you prefer to use polynomial regression?\n",
    "Ans-"
   ]
  },
  {
   "cell_type": "code",
   "execution_count": null,
   "id": "1b508401-cab2-4cc9-ab1e-e068dc79f4b6",
   "metadata": {},
   "outputs": [],
   "source": []
  }
 ],
 "metadata": {
  "kernelspec": {
   "display_name": "Python 3 (ipykernel)",
   "language": "python",
   "name": "python3"
  },
  "language_info": {
   "codemirror_mode": {
    "name": "ipython",
    "version": 3
   },
   "file_extension": ".py",
   "mimetype": "text/x-python",
   "name": "python",
   "nbconvert_exporter": "python",
   "pygments_lexer": "ipython3",
   "version": "3.10.8"
  }
 },
 "nbformat": 4,
 "nbformat_minor": 5
}
